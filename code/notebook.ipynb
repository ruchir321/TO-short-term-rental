{
 "cells": [
  {
   "cell_type": "markdown",
   "metadata": {},
   "source": [
    "# INTRO\n",
    "\n",
    "short term rentals are primary residences' extra living accomodation rented out for less than 28 consecutive days\n",
    "\n",
    "this dataset contains currently active Short-term rentals\n",
    "\n",
    "the dataset is static, doesn't have time series feature. GEO postal code are generalized\n",
    "\n",
    "redundant: \n",
    "- unit (just the unit number)\n",
    "- ward_number/ward_name: just a grouping of postal codes\n",
    "\n",
    "fields:\n",
    "- postcode\n",
    "- property_type"
   ]
  },
  {
   "cell_type": "code",
   "execution_count": 1,
   "metadata": {},
   "outputs": [],
   "source": [
    "import polars as pl"
   ]
  },
  {
   "cell_type": "code",
   "execution_count": 2,
   "metadata": {},
   "outputs": [],
   "source": [
    "df = pl.read_csv(\"../input/short-term-rentals-registration.csv\")"
   ]
  },
  {
   "cell_type": "code",
   "execution_count": 3,
   "metadata": {},
   "outputs": [
    {
     "data": {
      "text/plain": [
       "Schema([('_id', Int64),\n",
       "        ('operator_registration_number', String),\n",
       "        ('address', String),\n",
       "        ('unit', String),\n",
       "        ('postal_code', String),\n",
       "        ('property_type', String),\n",
       "        ('ward_number', Int64),\n",
       "        ('ward_name', String)])"
      ]
     },
     "execution_count": 3,
     "metadata": {},
     "output_type": "execute_result"
    }
   ],
   "source": [
    "df.schema"
   ]
  },
  {
   "cell_type": "code",
   "execution_count": 4,
   "metadata": {},
   "outputs": [],
   "source": [
    "q = (\n",
    "    df.lazy()\n",
    "    .group_by(\"postal_code\")\n",
    "    .agg(\n",
    "        pl.len().alias(\"postcode_count\")\n",
    "    )\n",
    "    .sort(by=\"postcode_count\", descending=True)\n",
    ")\n",
    "\n",
    "rentals_by_postcode = q.collect()"
   ]
  },
  {
   "cell_type": "code",
   "execution_count": 10,
   "metadata": {},
   "outputs": [],
   "source": [
    "q = (\n",
    "    df.lazy()\n",
    "    .group_by(\"property_type\")\n",
    "    .agg(\n",
    "        pl.len().alias(\"property_type_count\")\n",
    "    )\n",
    "    .sort(by=\"property_type_count\", descending=True)\n",
    ")\n",
    "\n",
    "rentals_by_units = q.collect()"
   ]
  },
  {
   "cell_type": "code",
   "execution_count": 8,
   "metadata": {},
   "outputs": [
    {
     "data": {
      "text/html": [
       "<div><style>\n",
       ".dataframe > thead > tr,\n",
       ".dataframe > tbody > tr {\n",
       "  text-align: right;\n",
       "  white-space: pre-wrap;\n",
       "}\n",
       "</style>\n",
       "<small>shape: (10, 2)</small><table border=\"1\" class=\"dataframe\"><thead><tr><th>postal_code</th><th>count</th></tr><tr><td>str</td><td>u32</td></tr></thead><tbody><tr><td>&quot;M5V&quot;</td><td>1550</td></tr><tr><td>&quot;M5J&quot;</td><td>475</td></tr><tr><td>&quot;M6J&quot;</td><td>318</td></tr><tr><td>&quot;M6K&quot;</td><td>291</td></tr><tr><td>&quot;M6H&quot;</td><td>248</td></tr><tr><td>&quot;M5A&quot;</td><td>248</td></tr><tr><td>&quot;M5R&quot;</td><td>241</td></tr><tr><td>&quot;M5B&quot;</td><td>208</td></tr><tr><td>&quot;M6G&quot;</td><td>206</td></tr><tr><td>&quot;M4L&quot;</td><td>191</td></tr></tbody></table></div>"
      ],
      "text/plain": [
       "shape: (10, 2)\n",
       "┌─────────────┬───────┐\n",
       "│ postal_code ┆ count │\n",
       "│ ---         ┆ ---   │\n",
       "│ str         ┆ u32   │\n",
       "╞═════════════╪═══════╡\n",
       "│ M5V         ┆ 1550  │\n",
       "│ M5J         ┆ 475   │\n",
       "│ M6J         ┆ 318   │\n",
       "│ M6K         ┆ 291   │\n",
       "│ M6H         ┆ 248   │\n",
       "│ M5A         ┆ 248   │\n",
       "│ M5R         ┆ 241   │\n",
       "│ M5B         ┆ 208   │\n",
       "│ M6G         ┆ 206   │\n",
       "│ M4L         ┆ 191   │\n",
       "└─────────────┴───────┘"
      ]
     },
     "execution_count": 8,
     "metadata": {},
     "output_type": "execute_result"
    }
   ],
   "source": [
    "rentals_by_postcode"
   ]
  },
  {
   "cell_type": "code",
   "execution_count": 11,
   "metadata": {},
   "outputs": [
    {
     "data": {
      "text/html": [
       "<div><style>\n",
       ".dataframe > thead > tr,\n",
       ".dataframe > tbody > tr {\n",
       "  text-align: right;\n",
       "  white-space: pre-wrap;\n",
       "}\n",
       "</style>\n",
       "<small>shape: (7, 2)</small><table border=\"1\" class=\"dataframe\"><thead><tr><th>property_type</th><th>property_type_count</th></tr><tr><td>str</td><td>u32</td></tr></thead><tbody><tr><td>&quot;Single/Semi-detached House&quot;</td><td>3726</td></tr><tr><td>&quot;Condominium&quot;</td><td>3304</td></tr><tr><td>&quot;Apartment&quot;</td><td>678</td></tr><tr><td>&quot;Townhouse/ Row House&quot;</td><td>621</td></tr><tr><td>&quot;Duplex/Triplex/Fourplex&quot;</td><td>377</td></tr><tr><td>&quot;Single-family detached&quot;</td><td>1</td></tr><tr><td>&quot;Semi-detached House&quot;</td><td>1</td></tr></tbody></table></div>"
      ],
      "text/plain": [
       "shape: (7, 2)\n",
       "┌────────────────────────────┬─────────────────────┐\n",
       "│ property_type              ┆ property_type_count │\n",
       "│ ---                        ┆ ---                 │\n",
       "│ str                        ┆ u32                 │\n",
       "╞════════════════════════════╪═════════════════════╡\n",
       "│ Single/Semi-detached House ┆ 3726                │\n",
       "│ Condominium                ┆ 3304                │\n",
       "│ Apartment                  ┆ 678                 │\n",
       "│ Townhouse/ Row House       ┆ 621                 │\n",
       "│ Duplex/Triplex/Fourplex    ┆ 377                 │\n",
       "│ Single-family detached     ┆ 1                   │\n",
       "│ Semi-detached House        ┆ 1                   │\n",
       "└────────────────────────────┴─────────────────────┘"
      ]
     },
     "execution_count": 11,
     "metadata": {},
     "output_type": "execute_result"
    }
   ],
   "source": [
    "rentals_by_units"
   ]
  },
  {
   "cell_type": "code",
   "execution_count": null,
   "metadata": {},
   "outputs": [],
   "source": []
  }
 ],
 "metadata": {
  "kernelspec": {
   "display_name": "geo",
   "language": "python",
   "name": "python3"
  },
  "language_info": {
   "codemirror_mode": {
    "name": "ipython",
    "version": 3
   },
   "file_extension": ".py",
   "mimetype": "text/x-python",
   "name": "python",
   "nbconvert_exporter": "python",
   "pygments_lexer": "ipython3",
   "version": "3.9.20"
  }
 },
 "nbformat": 4,
 "nbformat_minor": 2
}
